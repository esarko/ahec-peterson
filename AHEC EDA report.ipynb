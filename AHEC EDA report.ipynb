{
 "cells": [
  {
   "cell_type": "code",
   "execution_count": 54,
   "metadata": {
    "jupyter": {
     "source_hidden": true
    }
   },
   "outputs": [],
   "source": [
    "import pandas as pd\n",
    "import numpy as np\n",
    "import sidetable\n",
    "import matplotlib.pyplot as plt\n",
    "allgroups = pd.read_csv(r'C:\\Users\\esarkodie\\Desktop\\WWH\\Collaborations\\AHEC Peterson\\AHEC_eda dataset_deid.csv')"
   ]
  },
  {
   "cell_type": "markdown",
   "metadata": {},
   "source": [
    "**PETERSON AHEC PROJECT - EXPLORATORY DATA ANALYSIS - 26AUG2020**"
   ]
  },
  {
   "cell_type": "code",
   "execution_count": 178,
   "metadata": {
    "jupyter": {
     "source_hidden": true
    }
   },
   "outputs": [
    {
     "name": "stdout",
     "output_type": "stream",
     "text": [
      "There was a total of 16202 patients that had at least 1 medical appointment between 2016 and 2018.\n",
      "The study population is broken down into four groups:\n",
      "Group 1: HIV+ DEP- at baseline\n",
      "Group 2: HIV+ DEP+ at baseline\n",
      "Group 3: HIV- DEP- at baseline\n",
      "Group 4: HIV- DEP+ at baseline\n",
      "\n",
      "Below is a summary table of the four groups in the study population.\n",
      "\n"
     ]
    },
    {
     "data": {
      "text/html": [
       "<style  type=\"text/css\" >\n",
       "</style><table id=\"T_0633c95a_e711_11ea_a273_ace2d301f558\" ><thead>    <tr>        <th class=\"blank level0\" ></th>        <th class=\"col_heading level0 col0\" >Group</th>        <th class=\"col_heading level0 col1\" >count</th>        <th class=\"col_heading level0 col2\" >percent</th>        <th class=\"col_heading level0 col3\" >cumulative_count</th>        <th class=\"col_heading level0 col4\" >cumulative_percent</th>    </tr></thead><tbody>\n",
       "                <tr>\n",
       "                        <th id=\"T_0633c95a_e711_11ea_a273_ace2d301f558level0_row0\" class=\"row_heading level0 row0\" >0</th>\n",
       "                        <td id=\"T_0633c95a_e711_11ea_a273_ace2d301f558row0_col0\" class=\"data row0 col0\" >3</td>\n",
       "                        <td id=\"T_0633c95a_e711_11ea_a273_ace2d301f558row0_col1\" class=\"data row0 col1\" >10,490</td>\n",
       "                        <td id=\"T_0633c95a_e711_11ea_a273_ace2d301f558row0_col2\" class=\"data row0 col2\" >64.75%</td>\n",
       "                        <td id=\"T_0633c95a_e711_11ea_a273_ace2d301f558row0_col3\" class=\"data row0 col3\" >10,490</td>\n",
       "                        <td id=\"T_0633c95a_e711_11ea_a273_ace2d301f558row0_col4\" class=\"data row0 col4\" >64.75%</td>\n",
       "            </tr>\n",
       "            <tr>\n",
       "                        <th id=\"T_0633c95a_e711_11ea_a273_ace2d301f558level0_row1\" class=\"row_heading level0 row1\" >1</th>\n",
       "                        <td id=\"T_0633c95a_e711_11ea_a273_ace2d301f558row1_col0\" class=\"data row1 col0\" >1</td>\n",
       "                        <td id=\"T_0633c95a_e711_11ea_a273_ace2d301f558row1_col1\" class=\"data row1 col1\" >3,489</td>\n",
       "                        <td id=\"T_0633c95a_e711_11ea_a273_ace2d301f558row1_col2\" class=\"data row1 col2\" >21.53%</td>\n",
       "                        <td id=\"T_0633c95a_e711_11ea_a273_ace2d301f558row1_col3\" class=\"data row1 col3\" >13,979</td>\n",
       "                        <td id=\"T_0633c95a_e711_11ea_a273_ace2d301f558row1_col4\" class=\"data row1 col4\" >86.28%</td>\n",
       "            </tr>\n",
       "            <tr>\n",
       "                        <th id=\"T_0633c95a_e711_11ea_a273_ace2d301f558level0_row2\" class=\"row_heading level0 row2\" >2</th>\n",
       "                        <td id=\"T_0633c95a_e711_11ea_a273_ace2d301f558row2_col0\" class=\"data row2 col0\" >4</td>\n",
       "                        <td id=\"T_0633c95a_e711_11ea_a273_ace2d301f558row2_col1\" class=\"data row2 col1\" >1,323</td>\n",
       "                        <td id=\"T_0633c95a_e711_11ea_a273_ace2d301f558row2_col2\" class=\"data row2 col2\" >8.17%</td>\n",
       "                        <td id=\"T_0633c95a_e711_11ea_a273_ace2d301f558row2_col3\" class=\"data row2 col3\" >15,302</td>\n",
       "                        <td id=\"T_0633c95a_e711_11ea_a273_ace2d301f558row2_col4\" class=\"data row2 col4\" >94.45%</td>\n",
       "            </tr>\n",
       "            <tr>\n",
       "                        <th id=\"T_0633c95a_e711_11ea_a273_ace2d301f558level0_row3\" class=\"row_heading level0 row3\" >3</th>\n",
       "                        <td id=\"T_0633c95a_e711_11ea_a273_ace2d301f558row3_col0\" class=\"data row3 col0\" >2</td>\n",
       "                        <td id=\"T_0633c95a_e711_11ea_a273_ace2d301f558row3_col1\" class=\"data row3 col1\" >900</td>\n",
       "                        <td id=\"T_0633c95a_e711_11ea_a273_ace2d301f558row3_col2\" class=\"data row3 col2\" >5.55%</td>\n",
       "                        <td id=\"T_0633c95a_e711_11ea_a273_ace2d301f558row3_col3\" class=\"data row3 col3\" >16,202</td>\n",
       "                        <td id=\"T_0633c95a_e711_11ea_a273_ace2d301f558row3_col4\" class=\"data row3 col4\" >100.00%</td>\n",
       "            </tr>\n",
       "    </tbody></table>"
      ],
      "text/plain": [
       "<pandas.io.formats.style.Styler at 0x172391e1f88>"
      ]
     },
     "execution_count": 178,
     "metadata": {},
     "output_type": "execute_result"
    }
   ],
   "source": [
    "allgroupstotal = allgroups['patientID'].count()\n",
    "print('There was a total of ' + str(allgroupstotal) + ' patients that had at least 1 medical appointment between 2016 and 2018.\\nThe study population is broken down into four groups:\\nGroup 1: HIV+ DEP- at baseline\\nGroup 2: HIV+ DEP+ at baseline\\nGroup 3: HIV- DEP- at baseline\\nGroup 4: HIV- DEP+ at baseline\\n')\n",
    "print('Below is a summary table of the four groups in the study population.\\n')\n",
    "allgroups.stb.freq(['Group'], style = True)"
   ]
  },
  {
   "cell_type": "code",
   "execution_count": 202,
   "metadata": {
    "jupyter": {
     "source_hidden": true
    }
   },
   "outputs": [
    {
     "name": "stdout",
     "output_type": "stream",
     "text": [
      "The purpose of this analysis is to compare follow-up treatment for depression in those who are HIV positive versus those who are not HIV positive. As such, only Groups 1 and 3 are further examined.\n"
     ]
    }
   ],
   "source": [
    "print('The purpose of this analysis is to compare follow-up treatment for depression in those who are HIV positive versus those who are not HIV positive. As such, only Groups 1 and 3 are further examined.')"
   ]
  },
  {
   "cell_type": "markdown",
   "metadata": {},
   "source": [
    "**GROUP 1 BREAKDOWN**"
   ]
  },
  {
   "cell_type": "code",
   "execution_count": 186,
   "metadata": {
    "jupyter": {
     "source_hidden": true
    }
   },
   "outputs": [
    {
     "name": "stdout",
     "output_type": "stream",
     "text": [
      "6.3% of group 1 patients were diagnosed with depression (n = 221).\n",
      "\n",
      "The average time to depression diagnosis for group 1 patients was 188.2 days (median: 189.0 days).\n",
      "\n",
      "The Inter Quartile Range for time to depression diagnosis is 181.0 days.\n",
      "Minimum: 0\n",
      "Q1: 95.0\n",
      "Q3: 276.0\n",
      "Maximum: 483\n"
     ]
    }
   ],
   "source": [
    "group1DEP = pd.read_csv(r'C:\\Users\\esarkodie\\Desktop\\WWH\\Collaborations\\AHEC Peterson\\Deidentified files\\group1DEP.csv')\n",
    "\n",
    "group1total = group1DEP['patientID'].count()\n",
    "group1DEPmean = round(np.mean(group1DEP['Time_to_DEP']), 1)\n",
    "group1DEPmedian = round(np.median(group1DEP['Time_to_DEP']), 1)\n",
    "\n",
    "mindaysg1 = group1DEP['Time_to_DEP'].min()\n",
    "maxdaysg1 = group1DEP['Time_to_DEP'].max()\n",
    "Q1 = group1DEP['Time_to_DEP'].quantile(0.25)\n",
    "Q3 = group1DEP['Time_to_DEP'].quantile(0.75)\n",
    "IQR = Q3 - Q1\n",
    "\n",
    "print('6.3% of group 1 patients were diagnosed with depression (n = ' + str(group1total) + ').\\n')\n",
    "print('The average time to depression diagnosis for group 1 patients was ' + str(group1DEPmean) + ' days (median: ' + str(group1DEPmedian) + ' days).\\n')\n",
    "print('The Inter Quartile Range for time to depression diagnosis is ' + str(IQR) + ' days.')\n",
    "print('Minimum: ' + str(mindaysg1))\n",
    "print('Q1: ' + str(Q1))\n",
    "print('Q3: ' + str(Q3))\n",
    "print('Maximum: ' + str(maxdaysg1))"
   ]
  },
  {
   "cell_type": "code",
   "execution_count": 167,
   "metadata": {
    "jupyter": {
     "source_hidden": true
    }
   },
   "outputs": [
    {
     "data": {
      "text/plain": [
       "(array([21., 36., 25., 31., 31., 30., 28., 18.,  0.,  1.]),\n",
       " array([  0. ,  48.3,  96.6, 144.9, 193.2, 241.5, 289.8, 338.1, 386.4,\n",
       "        434.7, 483. ]),\n",
       " <a list of 10 Patch objects>)"
      ]
     },
     "execution_count": 167,
     "metadata": {},
     "output_type": "execute_result"
    },
    {
     "data": {
      "image/png": "[encoded data removed]",
      "text/plain": [
       "<Figure size 432x288 with 1 Axes>"
      ]
     },
     "metadata": {
      "needs_background": "light"
     },
     "output_type": "display_data"
    }
   ],
   "source": [
    "%matplotlib inline\n",
    "plt.hist(x = 'Time_to_DEP', data = group1DEP)"
   ]
  },
  {
   "cell_type": "code",
   "execution_count": 177,
   "metadata": {
    "jupyter": {
     "source_hidden": true
    }
   },
   "outputs": [
    {
     "name": "stdout",
     "output_type": "stream",
     "text": [
      "49.8% of group 1 patients that were diagnosed with depression had a mental health follow-up (n = 110).\n",
      "\n",
      "The average time to mental health follow up after depression diagnosis for group 1 patients (HIV+, DEP-) was 85.2 days (median: 21.0 days).\n",
      "\n",
      "The Inter Quartile Range for time to depression diagnosis is 148.75 days.\n",
      "Minimum: 0\n",
      "Q1: 0.0\n",
      "Q3: 148.75\n",
      "Maximum: 406\n"
     ]
    }
   ],
   "source": [
    "group1MH = pd.read_csv(r'C:\\Users\\esarkodie\\Desktop\\WWH\\Collaborations\\AHEC Peterson\\Deidentified files\\group1MH.csv')\n",
    "\n",
    "group1MHtotal = group1MH['patientID'].count()\n",
    "group1MHper = round((group1MHtotal/group1total*100),1)\n",
    "group1MHmean = round(np.mean(group1MH['Time_to_MH']), 1)\n",
    "group1MHmedian = round(np.median(group1MH['Time_to_MH']), 1)\n",
    "\n",
    "mindaysg1mh = group1MH['Time_to_MH'].min()\n",
    "maxdaysg1mh = group1MH['Time_to_MH'].max()\n",
    "Q1mh = group1MH['Time_to_MH'].quantile(0.25)\n",
    "Q3mh = group1MH['Time_to_MH'].quantile(0.75)\n",
    "IQRmh = Q3mh - Q1mh\n",
    "\n",
    "print(str(group1MHper) + '% of group 1 patients that were diagnosed with depression had a mental health follow-up (n = ' + str(group1MHtotal) + ').\\n')\n",
    "print('The average time to mental health follow up after depression diagnosis for group 1 patients (HIV+, DEP-) was ' + str(group1MHmean) + ' days (median: ' + str(group1MHmedian) + ' days).\\n')\n",
    "print('The Inter Quartile Range for time to depression diagnosis is ' + str(IQRmh) + ' days.')\n",
    "print('Minimum: ' + str(mindaysg1mh))\n",
    "print('Q1: ' + str(Q1mh))\n",
    "print('Q3: ' + str(Q3mh))\n",
    "print('Maximum: ' + str(maxdaysg1mh))"
   ]
  },
  {
   "cell_type": "code",
   "execution_count": 145,
   "metadata": {
    "jupyter": {
     "source_hidden": true
    }
   },
   "outputs": [
    {
     "data": {
      "text/plain": [
       "<matplotlib.axes._subplots.AxesSubplot at 0x17238fd4908>"
      ]
     },
     "execution_count": 145,
     "metadata": {},
     "output_type": "execute_result"
    },
    {
     "data": {
      "image/png": "[encoded data removed]",
      "text/plain": [
       "<Figure size 432x288 with 1 Axes>"
      ]
     },
     "metadata": {
      "needs_background": "light"
     },
     "output_type": "display_data"
    }
   ],
   "source": [
    "group1MH['Time_to_MH'].plot.box()"
   ]
  },
  {
   "cell_type": "code",
   "execution_count": 142,
   "metadata": {
    "jupyter": {
     "source_hidden": true
    }
   },
   "outputs": [
    {
     "data": {
      "text/plain": [
       "(array([63., 10.,  7.,  4.,  6.,  4.,  5.,  4.,  5.,  2.]),\n",
       " array([  0. ,  40.6,  81.2, 121.8, 162.4, 203. , 243.6, 284.2, 324.8,\n",
       "        365.4, 406. ]),\n",
       " <a list of 10 Patch objects>)"
      ]
     },
     "execution_count": 142,
     "metadata": {},
     "output_type": "execute_result"
    },
    {
     "data": {
      "image/png": "[encoded data removed]",
      "text/plain": [
       "<Figure size 432x288 with 1 Axes>"
      ]
     },
     "metadata": {
      "needs_background": "light"
     },
     "output_type": "display_data"
    }
   ],
   "source": [
    "%matplotlib inline\n",
    "plt.hist(x = 'Time_to_MH', data = group1MH)"
   ]
  },
  {
   "cell_type": "markdown",
   "metadata": {},
   "source": [
    "**GROUP 3 BREAKDOWN**"
   ]
  },
  {
   "cell_type": "code",
   "execution_count": 32,
   "metadata": {
    "jupyter": {
     "source_hidden": true
    }
   },
   "outputs": [],
   "source": [
    "group3DEP = pd.read_csv(r'C:\\Users\\esarkodie\\Desktop\\WWH\\Collaborations\\AHEC Peterson\\Deidentified files\\group3DEP.csv')"
   ]
  },
  {
   "cell_type": "code",
   "execution_count": 190,
   "metadata": {
    "jupyter": {
     "source_hidden": true
    }
   },
   "outputs": [
    {
     "name": "stdout",
     "output_type": "stream",
     "text": [
      "3.5% of HIV- patients (that remained negative) were diagnosed with depression in the study period (n = 363).\n",
      "\n",
      "The average time to depression diagnosis for group 3 patients (HIV-, DEP-) was 179.3 days (median: 179.0 days).\n",
      "\n",
      "The Inter Quartile Range for time to mental health follow-up is 183.5 days.\n",
      "Minimum: 1\n",
      "Q1: 86.5\n",
      "Q3: 270.0\n",
      "Maximum: 365\n"
     ]
    }
   ],
   "source": [
    "group3total = group3DEP['patientID'].count()\n",
    "group3DEPmean = round(np.mean(group3DEP['Time_to_DEP']), 1)\n",
    "group3DEPmedian = round(np.median(group3DEP['Time_to_DEP']), 1)\n",
    "\n",
    "mindaysg3 = group3DEP['Time_to_DEP'].min()\n",
    "maxdaysg3 = group3DEP['Time_to_DEP'].max()\n",
    "Q1g3 = group3DEP['Time_to_DEP'].quantile(0.25)\n",
    "Q3g3 = group3DEP['Time_to_DEP'].quantile(0.75)\n",
    "IQRg3 = Q3g3 - Q1g3\n",
    "\n",
    "print('3.5% of HIV- patients (that remained negative) were diagnosed with depression in the study period (n = ' + str(group3total) + ').\\n')\n",
    "print('The average time to depression diagnosis for group 3 patients (HIV-, DEP-) was ' + str(group3DEPmean) + ' days (median: ' + str(group3DEPmedian) + ' days).\\n')\n",
    "print('The Inter Quartile Range for time to mental health follow-up is ' + str(IQRg3) + ' days.')\n",
    "print('Minimum: ' + str(mindaysg3))\n",
    "print('Q1: ' + str(Q1g3))\n",
    "print('Q3: ' + str(Q3g3))\n",
    "print('Maximum: ' + str(maxdaysg3))"
   ]
  },
  {
   "cell_type": "code",
   "execution_count": 203,
   "metadata": {
    "jupyter": {
     "source_hidden": true
    }
   },
   "outputs": [
    {
     "name": "stdout",
     "output_type": "stream",
     "text": [
      "66.7% of group 3 patients that remained HIV- and were diagnosed with depression had a mental health follow-up (n = 242).\n",
      "\n",
      "The average time to mental health follow up after depression diagnosis for group 3 patients was 96.2 days (median: 56.0 days).\n",
      "\n",
      "The Inter Quartile Range for time to mental health follow up is 159.75 days.\n",
      "Minimum: 0\n",
      "Q1: 0.0\n",
      "Q3: 159.75\n",
      "Maximum: 490\n"
     ]
    }
   ],
   "source": [
    "group3MH = pd.read_csv(r'C:\\Users\\esarkodie\\Desktop\\WWH\\Collaborations\\AHEC Peterson\\Deidentified files\\group3MH.csv')\n",
    "\n",
    "group3MHtotal = group3MH['patientID'].count()\n",
    "group3MHper = round(group3MHtotal/group3total*100,1)\n",
    "group3MHmean = round(np.mean(group3MH['Time_to_MH']), 1)\n",
    "group3MHmedian = round(np.median(group3MH['Time_to_MH']), 1)\n",
    "\n",
    "mindaysg3mh = group3MH['Time_to_MH'].min()\n",
    "maxdaysg3mh = group3MH['Time_to_MH'].max()\n",
    "Q1g3mh = group3MH['Time_to_MH'].quantile(0.25)\n",
    "Q3g3mh = group3MH['Time_to_MH'].quantile(0.75)\n",
    "IQRg3mh = Q3g3mh - Q1g3mh\n",
    "\n",
    "print(str(group3MHper) + '% of group 3 patients that remained HIV- and were diagnosed with depression had a mental health follow-up (n = ' + str(group3MHtotal) + ').\\n')\n",
    "print('The average time to mental health follow up after depression diagnosis for group 3 patients was ' + str(group3MHmean) + ' days (median: ' + str(group3MHmedian) + ' days).\\n')\n",
    "print('The Inter Quartile Range for time to mental health follow up is ' + str(IQRg3mh) + ' days.')\n",
    "print('Minimum: ' + str(mindaysg3mh))\n",
    "print('Q1: ' + str(Q1g3mh))\n",
    "print('Q3: ' + str(Q3g3mh))\n",
    "print('Maximum: ' + str(maxdaysg3mh))"
   ]
  },
  {
   "cell_type": "code",
   "execution_count": 147,
   "metadata": {
    "jupyter": {
     "source_hidden": true
    }
   },
   "outputs": [
    {
     "data": {
      "text/plain": [
       "<matplotlib.axes._subplots.AxesSubplot at 0x17239031888>"
      ]
     },
     "execution_count": 147,
     "metadata": {},
     "output_type": "execute_result"
    },
    {
     "data": {
      "image/png": "[encoded data removed]",
      "text/plain": [
       "<Figure size 432x288 with 1 Axes>"
      ]
     },
     "metadata": {
      "needs_background": "light"
     },
     "output_type": "display_data"
    }
   ],
   "source": [
    "group3MH['Time_to_MH'].plot.box()"
   ]
  },
  {
   "cell_type": "code",
   "execution_count": 148,
   "metadata": {
    "jupyter": {
     "source_hidden": true
    }
   },
   "outputs": [
    {
     "data": {
      "text/plain": [
       "(array([119.,  29.,  24.,  22.,  14.,  13.,  15.,   5.,   0.,   1.]),\n",
       " array([  0.,  49.,  98., 147., 196., 245., 294., 343., 392., 441., 490.]),\n",
       " <a list of 10 Patch objects>)"
      ]
     },
     "execution_count": 148,
     "metadata": {},
     "output_type": "execute_result"
    },
    {
     "data": {
      "image/png": "[encoded data removed]",
      "text/plain": [
       "<Figure size 432x288 with 1 Axes>"
      ]
     },
     "metadata": {
      "needs_background": "light"
     },
     "output_type": "display_data"
    }
   ],
   "source": [
    "%matplotlib inline\n",
    "plt.hist(x = 'Time_to_MH', data = group3MH)"
   ]
  },
  {
   "cell_type": "markdown",
   "metadata": {},
   "source": [
    "**GROUP 3 WITH HIV BREAKDOWN**"
   ]
  },
  {
   "cell_type": "code",
   "execution_count": 135,
   "metadata": {
    "jupyter": {
     "source_hidden": true
    }
   },
   "outputs": [],
   "source": [
    "group3HIVDEP = pd.read_csv(r'C:\\Users\\esarkodie\\Desktop\\WWH\\Collaborations\\AHEC Peterson\\Deidentified files\\group3HIV_DEP.csv')"
   ]
  },
  {
   "cell_type": "code",
   "execution_count": 196,
   "metadata": {
    "jupyter": {
     "source_hidden": true
    }
   },
   "outputs": [
    {
     "name": "stdout",
     "output_type": "stream",
     "text": [
      "There were 5 patients that seroconverted and were diagnosed with depression in the study period.\n",
      "\n",
      "The average time from HIV diagnosis to depression diagnosis for group 3 patients that seroconverted was 145.8 days (median: 111.0 days).\n",
      "\n",
      "The Inter Quartile Range for time to depression diagnosis is 161.0 days.\n",
      "Minimum: 34\n",
      "Q1: 74.0\n",
      "Q3: 235.0\n",
      "Maximum: 275\n"
     ]
    }
   ],
   "source": [
    "group3HIVtotal = group3HIVDEP['patientID'].count()\n",
    "group3HIVDEPmean = round(np.mean(group3HIVDEP['Time_HIV_to_DEP']), 1)\n",
    "group3HIVDEPmedian = round(np.median(group3HIVDEP['Time_HIV_to_DEP']), 1)\n",
    "\n",
    "mindaysg3h = group3HIVDEP['Time_HIV_to_DEP'].min()\n",
    "maxdaysg3h = group3HIVDEP['Time_HIV_to_DEP'].max()\n",
    "Q1g3h = group3HIVDEP['Time_HIV_to_DEP'].quantile(0.25)\n",
    "Q3g3h = group3HIVDEP['Time_HIV_to_DEP'].quantile(0.75)\n",
    "IQRg3h = Q3g3h - Q1g3h\n",
    "\n",
    "print('There were ' + str(group3HIVtotal) + ' patients that seroconverted and were diagnosed with depression in the study period.\\n')\n",
    "print('The average time from HIV diagnosis to depression diagnosis for group 3 patients that seroconverted was ' + str(group3HIVDEPmean) + ' days (median: ' + str(group3HIVDEPmedian) + ' days).\\n')\n",
    "print('The Inter Quartile Range for time to depression diagnosis is ' + str(IQRg3h) + ' days.')\n",
    "print('Minimum: ' + str(mindaysg3h))\n",
    "print('Q1: ' + str(Q1g3h))\n",
    "print('Q3: ' + str(Q3g3h))\n",
    "print('Maximum: ' + str(maxdaysg3h))"
   ]
  },
  {
   "cell_type": "code",
   "execution_count": 204,
   "metadata": {
    "jupyter": {
     "source_hidden": true
    }
   },
   "outputs": [
    {
     "name": "stdout",
     "output_type": "stream",
     "text": [
      "There was 1 patient that seroconverted, was diagnosed with depression, and had a mental health follow-up in the study period.\n",
      "\n",
      "The time to mental health follow up after depression diagnosis for this patient was 0.0 days (median: 0.0 days).\n",
      "\n",
      "The Inter Quartile Range for time to mental health follow up is 0.0 days.\n"
     ]
    }
   ],
   "source": [
    "group3HIV_MH = pd.read_csv(r'C:\\Users\\esarkodie\\Desktop\\WWH\\Collaborations\\AHEC Peterson\\Deidentified files\\group3HIV_MH.csv')\n",
    "\n",
    "group3hivtotal = group3HIV_MH['patientID'].count()\n",
    "group3hivmean = round(np.mean(group3HIV_MH['Time_to_MH']), 1)\n",
    "group3hivmedian = round(np.median(group3HIV_MH['Time_to_MH']), 1)\n",
    "\n",
    "mindaysg3hiv = group3HIV_MH['Time_to_MH'].min()\n",
    "maxdaysg3hiv = group3HIV_MH['Time_to_MH'].max()\n",
    "Q1g3hiv = group3HIV_MH['Time_to_MH'].quantile(0.25)\n",
    "Q3g3hiv = group3HIV_MH['Time_to_MH'].quantile(0.75)\n",
    "IQRg3hiv = Q3g3hiv - Q1g3hiv\n",
    "\n",
    "print('There was ' + str(group3hivtotal) + ' patient that seroconverted, was diagnosed with depression, and had a mental health follow-up in the study period.\\n')\n",
    "print('The time to mental health follow up after depression diagnosis for this patient was ' + str(group3hivmean) + ' days (median: ' + str(group3hivmedian) + ' days).\\n')\n",
    "print('The Inter Quartile Range for time to mental health follow up is ' + str(IQRg3hiv) + ' days.')"
   ]
  },
  {
   "cell_type": "markdown",
   "metadata": {},
   "source": [
    "**Possible reasons for outliers/weaknesses of the analysis:"
   ]
  },
  {
   "cell_type": "code",
   "execution_count": 206,
   "metadata": {
    "jupyter": {
     "source_hidden": true
    }
   },
   "outputs": [
    {
     "name": "stdout",
     "output_type": "stream",
     "text": [
      "-Patients with complex medical histories or comorbidities.\n",
      "-High LGBT population.\n",
      "-Co-occurence of substance use; sometimes this was addressed before depression diagnosis.\n",
      "-Patients already in behavioral health services due to other mental health diagnosis.\n"
     ]
    }
   ],
   "source": [
    "print('-Patients with complex medical histories or comorbidities.\\n-High LGBT population.\\n-Co-occurence of substance use; sometimes this was addressed before depression diagnosis.\\n-Patients already in behavioral health services due to other mental health diagnosis.')"
   ]
  }
 ],
 "metadata": {
  "kernelspec": {
   "display_name": "Python 3",
   "language": "python",
   "name": "python3"
  },
  "language_info": {
   "codemirror_mode": {
    "name": "ipython",
    "version": 3
   },
   "file_extension": ".py",
   "mimetype": "text/x-python",
   "name": "python",
   "nbconvert_exporter": "python",
   "pygments_lexer": "ipython3",
   "version": "3.7.6"
  }
 },
 "nbformat": 4,
 "nbformat_minor": 4
}
